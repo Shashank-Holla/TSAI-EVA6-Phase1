{
  "nbformat": 4,
  "nbformat_minor": 0,
  "metadata": {
    "colab": {
      "name": "MNIST_Classification_Model0.ipynb",
      "provenance": [],
      "collapsed_sections": [],
      "authorship_tag": "ABX9TyMPYYAu/HQi2qSujQ2lKJWA",
      "include_colab_link": true
    },
    "kernelspec": {
      "name": "python3",
      "display_name": "Python 3"
    },
    "language_info": {
      "name": "python"
    },
    "accelerator": "GPU",
    "widgets": {
      "application/vnd.jupyter.widget-state+json": {
        "7de5aad091db4c9f8633a0c60308584b": {
          "model_module": "@jupyter-widgets/controls",
          "model_name": "HBoxModel",
          "state": {
            "_view_name": "HBoxView",
            "_dom_classes": [],
            "_model_name": "HBoxModel",
            "_view_module": "@jupyter-widgets/controls",
            "_model_module_version": "1.5.0",
            "_view_count": null,
            "_view_module_version": "1.5.0",
            "box_style": "",
            "layout": "IPY_MODEL_0782b9d439f2446bb90b7606551c495c",
            "_model_module": "@jupyter-widgets/controls",
            "children": [
              "IPY_MODEL_b1e59bfaaf014b54a37857215adc4f54",
              "IPY_MODEL_782342df23c5407ca47f34652e82f8f6"
            ]
          }
        },
        "0782b9d439f2446bb90b7606551c495c": {
          "model_module": "@jupyter-widgets/base",
          "model_name": "LayoutModel",
          "state": {
            "_view_name": "LayoutView",
            "grid_template_rows": null,
            "right": null,
            "justify_content": null,
            "_view_module": "@jupyter-widgets/base",
            "overflow": null,
            "_model_module_version": "1.2.0",
            "_view_count": null,
            "flex_flow": null,
            "width": null,
            "min_width": null,
            "border": null,
            "align_items": null,
            "bottom": null,
            "_model_module": "@jupyter-widgets/base",
            "top": null,
            "grid_column": null,
            "overflow_y": null,
            "overflow_x": null,
            "grid_auto_flow": null,
            "grid_area": null,
            "grid_template_columns": null,
            "flex": null,
            "_model_name": "LayoutModel",
            "justify_items": null,
            "grid_row": null,
            "max_height": null,
            "align_content": null,
            "visibility": null,
            "align_self": null,
            "height": null,
            "min_height": null,
            "padding": null,
            "grid_auto_rows": null,
            "grid_gap": null,
            "max_width": null,
            "order": null,
            "_view_module_version": "1.2.0",
            "grid_template_areas": null,
            "object_position": null,
            "object_fit": null,
            "grid_auto_columns": null,
            "margin": null,
            "display": null,
            "left": null
          }
        },
        "b1e59bfaaf014b54a37857215adc4f54": {
          "model_module": "@jupyter-widgets/controls",
          "model_name": "FloatProgressModel",
          "state": {
            "_view_name": "ProgressView",
            "style": "IPY_MODEL_a2615fa342b041f0a5b9a29aa3c273b7",
            "_dom_classes": [],
            "description": "",
            "_model_name": "FloatProgressModel",
            "bar_style": "success",
            "max": 9912422,
            "_view_module": "@jupyter-widgets/controls",
            "_model_module_version": "1.5.0",
            "value": 9912422,
            "_view_count": null,
            "_view_module_version": "1.5.0",
            "orientation": "horizontal",
            "min": 0,
            "description_tooltip": null,
            "_model_module": "@jupyter-widgets/controls",
            "layout": "IPY_MODEL_54a49d8339114479bbe6b6e0d41fc4bd"
          }
        },
        "782342df23c5407ca47f34652e82f8f6": {
          "model_module": "@jupyter-widgets/controls",
          "model_name": "HTMLModel",
          "state": {
            "_view_name": "HTMLView",
            "style": "IPY_MODEL_1df201a9fe1943cb90d734519c54cd77",
            "_dom_classes": [],
            "description": "",
            "_model_name": "HTMLModel",
            "placeholder": "​",
            "_view_module": "@jupyter-widgets/controls",
            "_model_module_version": "1.5.0",
            "value": " 9913344/? [00:35&lt;00:00, 278563.30it/s]",
            "_view_count": null,
            "_view_module_version": "1.5.0",
            "description_tooltip": null,
            "_model_module": "@jupyter-widgets/controls",
            "layout": "IPY_MODEL_d42cdfd5b9f74c7aa031fef5c60c7de0"
          }
        },
        "a2615fa342b041f0a5b9a29aa3c273b7": {
          "model_module": "@jupyter-widgets/controls",
          "model_name": "ProgressStyleModel",
          "state": {
            "_view_name": "StyleView",
            "_model_name": "ProgressStyleModel",
            "description_width": "initial",
            "_view_module": "@jupyter-widgets/base",
            "_model_module_version": "1.5.0",
            "_view_count": null,
            "_view_module_version": "1.2.0",
            "bar_color": null,
            "_model_module": "@jupyter-widgets/controls"
          }
        },
        "54a49d8339114479bbe6b6e0d41fc4bd": {
          "model_module": "@jupyter-widgets/base",
          "model_name": "LayoutModel",
          "state": {
            "_view_name": "LayoutView",
            "grid_template_rows": null,
            "right": null,
            "justify_content": null,
            "_view_module": "@jupyter-widgets/base",
            "overflow": null,
            "_model_module_version": "1.2.0",
            "_view_count": null,
            "flex_flow": null,
            "width": null,
            "min_width": null,
            "border": null,
            "align_items": null,
            "bottom": null,
            "_model_module": "@jupyter-widgets/base",
            "top": null,
            "grid_column": null,
            "overflow_y": null,
            "overflow_x": null,
            "grid_auto_flow": null,
            "grid_area": null,
            "grid_template_columns": null,
            "flex": null,
            "_model_name": "LayoutModel",
            "justify_items": null,
            "grid_row": null,
            "max_height": null,
            "align_content": null,
            "visibility": null,
            "align_self": null,
            "height": null,
            "min_height": null,
            "padding": null,
            "grid_auto_rows": null,
            "grid_gap": null,
            "max_width": null,
            "order": null,
            "_view_module_version": "1.2.0",
            "grid_template_areas": null,
            "object_position": null,
            "object_fit": null,
            "grid_auto_columns": null,
            "margin": null,
            "display": null,
            "left": null
          }
        },
        "1df201a9fe1943cb90d734519c54cd77": {
          "model_module": "@jupyter-widgets/controls",
          "model_name": "DescriptionStyleModel",
          "state": {
            "_view_name": "StyleView",
            "_model_name": "DescriptionStyleModel",
            "description_width": "",
            "_view_module": "@jupyter-widgets/base",
            "_model_module_version": "1.5.0",
            "_view_count": null,
            "_view_module_version": "1.2.0",
            "_model_module": "@jupyter-widgets/controls"
          }
        },
        "d42cdfd5b9f74c7aa031fef5c60c7de0": {
          "model_module": "@jupyter-widgets/base",
          "model_name": "LayoutModel",
          "state": {
            "_view_name": "LayoutView",
            "grid_template_rows": null,
            "right": null,
            "justify_content": null,
            "_view_module": "@jupyter-widgets/base",
            "overflow": null,
            "_model_module_version": "1.2.0",
            "_view_count": null,
            "flex_flow": null,
            "width": null,
            "min_width": null,
            "border": null,
            "align_items": null,
            "bottom": null,
            "_model_module": "@jupyter-widgets/base",
            "top": null,
            "grid_column": null,
            "overflow_y": null,
            "overflow_x": null,
            "grid_auto_flow": null,
            "grid_area": null,
            "grid_template_columns": null,
            "flex": null,
            "_model_name": "LayoutModel",
            "justify_items": null,
            "grid_row": null,
            "max_height": null,
            "align_content": null,
            "visibility": null,
            "align_self": null,
            "height": null,
            "min_height": null,
            "padding": null,
            "grid_auto_rows": null,
            "grid_gap": null,
            "max_width": null,
            "order": null,
            "_view_module_version": "1.2.0",
            "grid_template_areas": null,
            "object_position": null,
            "object_fit": null,
            "grid_auto_columns": null,
            "margin": null,
            "display": null,
            "left": null
          }
        },
        "0817b6378058414b9b08284a3926f2e0": {
          "model_module": "@jupyter-widgets/controls",
          "model_name": "HBoxModel",
          "state": {
            "_view_name": "HBoxView",
            "_dom_classes": [],
            "_model_name": "HBoxModel",
            "_view_module": "@jupyter-widgets/controls",
            "_model_module_version": "1.5.0",
            "_view_count": null,
            "_view_module_version": "1.5.0",
            "box_style": "",
            "layout": "IPY_MODEL_78eb3bbf488c435cb3f0434e0355eb27",
            "_model_module": "@jupyter-widgets/controls",
            "children": [
              "IPY_MODEL_edd1db82d6344afbb847b6ac43b743cd",
              "IPY_MODEL_146b4fb4bcee453b981bbf7e0bd118a6"
            ]
          }
        },
        "78eb3bbf488c435cb3f0434e0355eb27": {
          "model_module": "@jupyter-widgets/base",
          "model_name": "LayoutModel",
          "state": {
            "_view_name": "LayoutView",
            "grid_template_rows": null,
            "right": null,
            "justify_content": null,
            "_view_module": "@jupyter-widgets/base",
            "overflow": null,
            "_model_module_version": "1.2.0",
            "_view_count": null,
            "flex_flow": null,
            "width": null,
            "min_width": null,
            "border": null,
            "align_items": null,
            "bottom": null,
            "_model_module": "@jupyter-widgets/base",
            "top": null,
            "grid_column": null,
            "overflow_y": null,
            "overflow_x": null,
            "grid_auto_flow": null,
            "grid_area": null,
            "grid_template_columns": null,
            "flex": null,
            "_model_name": "LayoutModel",
            "justify_items": null,
            "grid_row": null,
            "max_height": null,
            "align_content": null,
            "visibility": null,
            "align_self": null,
            "height": null,
            "min_height": null,
            "padding": null,
            "grid_auto_rows": null,
            "grid_gap": null,
            "max_width": null,
            "order": null,
            "_view_module_version": "1.2.0",
            "grid_template_areas": null,
            "object_position": null,
            "object_fit": null,
            "grid_auto_columns": null,
            "margin": null,
            "display": null,
            "left": null
          }
        },
        "edd1db82d6344afbb847b6ac43b743cd": {
          "model_module": "@jupyter-widgets/controls",
          "model_name": "FloatProgressModel",
          "state": {
            "_view_name": "ProgressView",
            "style": "IPY_MODEL_0e107b3f6f80474fb7157772e4661995",
            "_dom_classes": [],
            "description": "",
            "_model_name": "FloatProgressModel",
            "bar_style": "success",
            "max": 28881,
            "_view_module": "@jupyter-widgets/controls",
            "_model_module_version": "1.5.0",
            "value": 28881,
            "_view_count": null,
            "_view_module_version": "1.5.0",
            "orientation": "horizontal",
            "min": 0,
            "description_tooltip": null,
            "_model_module": "@jupyter-widgets/controls",
            "layout": "IPY_MODEL_ac14794b7bae4026a33b14a0c4216bcd"
          }
        },
        "146b4fb4bcee453b981bbf7e0bd118a6": {
          "model_module": "@jupyter-widgets/controls",
          "model_name": "HTMLModel",
          "state": {
            "_view_name": "HTMLView",
            "style": "IPY_MODEL_f862a50de4c8482bb9d8ebbcb837ca81",
            "_dom_classes": [],
            "description": "",
            "_model_name": "HTMLModel",
            "placeholder": "​",
            "_view_module": "@jupyter-widgets/controls",
            "_model_module_version": "1.5.0",
            "value": " 29696/? [00:05&lt;00:00, 5244.63it/s]",
            "_view_count": null,
            "_view_module_version": "1.5.0",
            "description_tooltip": null,
            "_model_module": "@jupyter-widgets/controls",
            "layout": "IPY_MODEL_7ab355839e7f4ba8976ee8a0bf2e77d7"
          }
        },
        "0e107b3f6f80474fb7157772e4661995": {
          "model_module": "@jupyter-widgets/controls",
          "model_name": "ProgressStyleModel",
          "state": {
            "_view_name": "StyleView",
            "_model_name": "ProgressStyleModel",
            "description_width": "initial",
            "_view_module": "@jupyter-widgets/base",
            "_model_module_version": "1.5.0",
            "_view_count": null,
            "_view_module_version": "1.2.0",
            "bar_color": null,
            "_model_module": "@jupyter-widgets/controls"
          }
        },
        "ac14794b7bae4026a33b14a0c4216bcd": {
          "model_module": "@jupyter-widgets/base",
          "model_name": "LayoutModel",
          "state": {
            "_view_name": "LayoutView",
            "grid_template_rows": null,
            "right": null,
            "justify_content": null,
            "_view_module": "@jupyter-widgets/base",
            "overflow": null,
            "_model_module_version": "1.2.0",
            "_view_count": null,
            "flex_flow": null,
            "width": null,
            "min_width": null,
            "border": null,
            "align_items": null,
            "bottom": null,
            "_model_module": "@jupyter-widgets/base",
            "top": null,
            "grid_column": null,
            "overflow_y": null,
            "overflow_x": null,
            "grid_auto_flow": null,
            "grid_area": null,
            "grid_template_columns": null,
            "flex": null,
            "_model_name": "LayoutModel",
            "justify_items": null,
            "grid_row": null,
            "max_height": null,
            "align_content": null,
            "visibility": null,
            "align_self": null,
            "height": null,
            "min_height": null,
            "padding": null,
            "grid_auto_rows": null,
            "grid_gap": null,
            "max_width": null,
            "order": null,
            "_view_module_version": "1.2.0",
            "grid_template_areas": null,
            "object_position": null,
            "object_fit": null,
            "grid_auto_columns": null,
            "margin": null,
            "display": null,
            "left": null
          }
        },
        "f862a50de4c8482bb9d8ebbcb837ca81": {
          "model_module": "@jupyter-widgets/controls",
          "model_name": "DescriptionStyleModel",
          "state": {
            "_view_name": "StyleView",
            "_model_name": "DescriptionStyleModel",
            "description_width": "",
            "_view_module": "@jupyter-widgets/base",
            "_model_module_version": "1.5.0",
            "_view_count": null,
            "_view_module_version": "1.2.0",
            "_model_module": "@jupyter-widgets/controls"
          }
        },
        "7ab355839e7f4ba8976ee8a0bf2e77d7": {
          "model_module": "@jupyter-widgets/base",
          "model_name": "LayoutModel",
          "state": {
            "_view_name": "LayoutView",
            "grid_template_rows": null,
            "right": null,
            "justify_content": null,
            "_view_module": "@jupyter-widgets/base",
            "overflow": null,
            "_model_module_version": "1.2.0",
            "_view_count": null,
            "flex_flow": null,
            "width": null,
            "min_width": null,
            "border": null,
            "align_items": null,
            "bottom": null,
            "_model_module": "@jupyter-widgets/base",
            "top": null,
            "grid_column": null,
            "overflow_y": null,
            "overflow_x": null,
            "grid_auto_flow": null,
            "grid_area": null,
            "grid_template_columns": null,
            "flex": null,
            "_model_name": "LayoutModel",
            "justify_items": null,
            "grid_row": null,
            "max_height": null,
            "align_content": null,
            "visibility": null,
            "align_self": null,
            "height": null,
            "min_height": null,
            "padding": null,
            "grid_auto_rows": null,
            "grid_gap": null,
            "max_width": null,
            "order": null,
            "_view_module_version": "1.2.0",
            "grid_template_areas": null,
            "object_position": null,
            "object_fit": null,
            "grid_auto_columns": null,
            "margin": null,
            "display": null,
            "left": null
          }
        },
        "19736593138444c58e3f786ad9dd626e": {
          "model_module": "@jupyter-widgets/controls",
          "model_name": "HBoxModel",
          "state": {
            "_view_name": "HBoxView",
            "_dom_classes": [],
            "_model_name": "HBoxModel",
            "_view_module": "@jupyter-widgets/controls",
            "_model_module_version": "1.5.0",
            "_view_count": null,
            "_view_module_version": "1.5.0",
            "box_style": "",
            "layout": "IPY_MODEL_efdfc48de3474c9ebf9144325082424e",
            "_model_module": "@jupyter-widgets/controls",
            "children": [
              "IPY_MODEL_a09cb373d10c41c7870c73560f1a1e6a",
              "IPY_MODEL_c0660ebc406f42fa93c806ba0ff26b71"
            ]
          }
        },
        "efdfc48de3474c9ebf9144325082424e": {
          "model_module": "@jupyter-widgets/base",
          "model_name": "LayoutModel",
          "state": {
            "_view_name": "LayoutView",
            "grid_template_rows": null,
            "right": null,
            "justify_content": null,
            "_view_module": "@jupyter-widgets/base",
            "overflow": null,
            "_model_module_version": "1.2.0",
            "_view_count": null,
            "flex_flow": null,
            "width": null,
            "min_width": null,
            "border": null,
            "align_items": null,
            "bottom": null,
            "_model_module": "@jupyter-widgets/base",
            "top": null,
            "grid_column": null,
            "overflow_y": null,
            "overflow_x": null,
            "grid_auto_flow": null,
            "grid_area": null,
            "grid_template_columns": null,
            "flex": null,
            "_model_name": "LayoutModel",
            "justify_items": null,
            "grid_row": null,
            "max_height": null,
            "align_content": null,
            "visibility": null,
            "align_self": null,
            "height": null,
            "min_height": null,
            "padding": null,
            "grid_auto_rows": null,
            "grid_gap": null,
            "max_width": null,
            "order": null,
            "_view_module_version": "1.2.0",
            "grid_template_areas": null,
            "object_position": null,
            "object_fit": null,
            "grid_auto_columns": null,
            "margin": null,
            "display": null,
            "left": null
          }
        },
        "a09cb373d10c41c7870c73560f1a1e6a": {
          "model_module": "@jupyter-widgets/controls",
          "model_name": "FloatProgressModel",
          "state": {
            "_view_name": "ProgressView",
            "style": "IPY_MODEL_b81845626d8c490fb0c4ab5b8a4ecfc2",
            "_dom_classes": [],
            "description": "",
            "_model_name": "FloatProgressModel",
            "bar_style": "success",
            "max": 1648877,
            "_view_module": "@jupyter-widgets/controls",
            "_model_module_version": "1.5.0",
            "value": 1648877,
            "_view_count": null,
            "_view_module_version": "1.5.0",
            "orientation": "horizontal",
            "min": 0,
            "description_tooltip": null,
            "_model_module": "@jupyter-widgets/controls",
            "layout": "IPY_MODEL_45752808ed084615b6cc335dea20b8c2"
          }
        },
        "c0660ebc406f42fa93c806ba0ff26b71": {
          "model_module": "@jupyter-widgets/controls",
          "model_name": "HTMLModel",
          "state": {
            "_view_name": "HTMLView",
            "style": "IPY_MODEL_9a909c1c4d95474cb4fd4a543427ef22",
            "_dom_classes": [],
            "description": "",
            "_model_name": "HTMLModel",
            "placeholder": "​",
            "_view_module": "@jupyter-widgets/controls",
            "_model_module_version": "1.5.0",
            "value": " 1649664/? [00:03&lt;00:00, 461490.85it/s]",
            "_view_count": null,
            "_view_module_version": "1.5.0",
            "description_tooltip": null,
            "_model_module": "@jupyter-widgets/controls",
            "layout": "IPY_MODEL_28c2e6f2b41c44e1ae3fc14edce3869f"
          }
        },
        "b81845626d8c490fb0c4ab5b8a4ecfc2": {
          "model_module": "@jupyter-widgets/controls",
          "model_name": "ProgressStyleModel",
          "state": {
            "_view_name": "StyleView",
            "_model_name": "ProgressStyleModel",
            "description_width": "initial",
            "_view_module": "@jupyter-widgets/base",
            "_model_module_version": "1.5.0",
            "_view_count": null,
            "_view_module_version": "1.2.0",
            "bar_color": null,
            "_model_module": "@jupyter-widgets/controls"
          }
        },
        "45752808ed084615b6cc335dea20b8c2": {
          "model_module": "@jupyter-widgets/base",
          "model_name": "LayoutModel",
          "state": {
            "_view_name": "LayoutView",
            "grid_template_rows": null,
            "right": null,
            "justify_content": null,
            "_view_module": "@jupyter-widgets/base",
            "overflow": null,
            "_model_module_version": "1.2.0",
            "_view_count": null,
            "flex_flow": null,
            "width": null,
            "min_width": null,
            "border": null,
            "align_items": null,
            "bottom": null,
            "_model_module": "@jupyter-widgets/base",
            "top": null,
            "grid_column": null,
            "overflow_y": null,
            "overflow_x": null,
            "grid_auto_flow": null,
            "grid_area": null,
            "grid_template_columns": null,
            "flex": null,
            "_model_name": "LayoutModel",
            "justify_items": null,
            "grid_row": null,
            "max_height": null,
            "align_content": null,
            "visibility": null,
            "align_self": null,
            "height": null,
            "min_height": null,
            "padding": null,
            "grid_auto_rows": null,
            "grid_gap": null,
            "max_width": null,
            "order": null,
            "_view_module_version": "1.2.0",
            "grid_template_areas": null,
            "object_position": null,
            "object_fit": null,
            "grid_auto_columns": null,
            "margin": null,
            "display": null,
            "left": null
          }
        },
        "9a909c1c4d95474cb4fd4a543427ef22": {
          "model_module": "@jupyter-widgets/controls",
          "model_name": "DescriptionStyleModel",
          "state": {
            "_view_name": "StyleView",
            "_model_name": "DescriptionStyleModel",
            "description_width": "",
            "_view_module": "@jupyter-widgets/base",
            "_model_module_version": "1.5.0",
            "_view_count": null,
            "_view_module_version": "1.2.0",
            "_model_module": "@jupyter-widgets/controls"
          }
        },
        "28c2e6f2b41c44e1ae3fc14edce3869f": {
          "model_module": "@jupyter-widgets/base",
          "model_name": "LayoutModel",
          "state": {
            "_view_name": "LayoutView",
            "grid_template_rows": null,
            "right": null,
            "justify_content": null,
            "_view_module": "@jupyter-widgets/base",
            "overflow": null,
            "_model_module_version": "1.2.0",
            "_view_count": null,
            "flex_flow": null,
            "width": null,
            "min_width": null,
            "border": null,
            "align_items": null,
            "bottom": null,
            "_model_module": "@jupyter-widgets/base",
            "top": null,
            "grid_column": null,
            "overflow_y": null,
            "overflow_x": null,
            "grid_auto_flow": null,
            "grid_area": null,
            "grid_template_columns": null,
            "flex": null,
            "_model_name": "LayoutModel",
            "justify_items": null,
            "grid_row": null,
            "max_height": null,
            "align_content": null,
            "visibility": null,
            "align_self": null,
            "height": null,
            "min_height": null,
            "padding": null,
            "grid_auto_rows": null,
            "grid_gap": null,
            "max_width": null,
            "order": null,
            "_view_module_version": "1.2.0",
            "grid_template_areas": null,
            "object_position": null,
            "object_fit": null,
            "grid_auto_columns": null,
            "margin": null,
            "display": null,
            "left": null
          }
        },
        "a098f01a570440b28275983fe752b683": {
          "model_module": "@jupyter-widgets/controls",
          "model_name": "HBoxModel",
          "state": {
            "_view_name": "HBoxView",
            "_dom_classes": [],
            "_model_name": "HBoxModel",
            "_view_module": "@jupyter-widgets/controls",
            "_model_module_version": "1.5.0",
            "_view_count": null,
            "_view_module_version": "1.5.0",
            "box_style": "",
            "layout": "IPY_MODEL_024b6fc763ef435eb2ed0b1ba81c0e4f",
            "_model_module": "@jupyter-widgets/controls",
            "children": [
              "IPY_MODEL_5bcbaf5d0e67410aa505540728529add",
              "IPY_MODEL_29880b7534504f209425f018625821d5"
            ]
          }
        },
        "024b6fc763ef435eb2ed0b1ba81c0e4f": {
          "model_module": "@jupyter-widgets/base",
          "model_name": "LayoutModel",
          "state": {
            "_view_name": "LayoutView",
            "grid_template_rows": null,
            "right": null,
            "justify_content": null,
            "_view_module": "@jupyter-widgets/base",
            "overflow": null,
            "_model_module_version": "1.2.0",
            "_view_count": null,
            "flex_flow": null,
            "width": null,
            "min_width": null,
            "border": null,
            "align_items": null,
            "bottom": null,
            "_model_module": "@jupyter-widgets/base",
            "top": null,
            "grid_column": null,
            "overflow_y": null,
            "overflow_x": null,
            "grid_auto_flow": null,
            "grid_area": null,
            "grid_template_columns": null,
            "flex": null,
            "_model_name": "LayoutModel",
            "justify_items": null,
            "grid_row": null,
            "max_height": null,
            "align_content": null,
            "visibility": null,
            "align_self": null,
            "height": null,
            "min_height": null,
            "padding": null,
            "grid_auto_rows": null,
            "grid_gap": null,
            "max_width": null,
            "order": null,
            "_view_module_version": "1.2.0",
            "grid_template_areas": null,
            "object_position": null,
            "object_fit": null,
            "grid_auto_columns": null,
            "margin": null,
            "display": null,
            "left": null
          }
        },
        "5bcbaf5d0e67410aa505540728529add": {
          "model_module": "@jupyter-widgets/controls",
          "model_name": "FloatProgressModel",
          "state": {
            "_view_name": "ProgressView",
            "style": "IPY_MODEL_83eed2e7cec24bf49aa9069b9dd1356d",
            "_dom_classes": [],
            "description": "",
            "_model_name": "FloatProgressModel",
            "bar_style": "success",
            "max": 4542,
            "_view_module": "@jupyter-widgets/controls",
            "_model_module_version": "1.5.0",
            "value": 4542,
            "_view_count": null,
            "_view_module_version": "1.5.0",
            "orientation": "horizontal",
            "min": 0,
            "description_tooltip": null,
            "_model_module": "@jupyter-widgets/controls",
            "layout": "IPY_MODEL_e19bf20e780d4676aa62c593fd2d3250"
          }
        },
        "29880b7534504f209425f018625821d5": {
          "model_module": "@jupyter-widgets/controls",
          "model_name": "HTMLModel",
          "state": {
            "_view_name": "HTMLView",
            "style": "IPY_MODEL_5f0a1f6597d341e39fde14b3571daad7",
            "_dom_classes": [],
            "description": "",
            "_model_name": "HTMLModel",
            "placeholder": "​",
            "_view_module": "@jupyter-widgets/controls",
            "_model_module_version": "1.5.0",
            "value": " 5120/? [00:25&lt;00:00, 200.33it/s]",
            "_view_count": null,
            "_view_module_version": "1.5.0",
            "description_tooltip": null,
            "_model_module": "@jupyter-widgets/controls",
            "layout": "IPY_MODEL_1a21cb9b1ec741d3aa628c1223a9fe49"
          }
        },
        "83eed2e7cec24bf49aa9069b9dd1356d": {
          "model_module": "@jupyter-widgets/controls",
          "model_name": "ProgressStyleModel",
          "state": {
            "_view_name": "StyleView",
            "_model_name": "ProgressStyleModel",
            "description_width": "initial",
            "_view_module": "@jupyter-widgets/base",
            "_model_module_version": "1.5.0",
            "_view_count": null,
            "_view_module_version": "1.2.0",
            "bar_color": null,
            "_model_module": "@jupyter-widgets/controls"
          }
        },
        "e19bf20e780d4676aa62c593fd2d3250": {
          "model_module": "@jupyter-widgets/base",
          "model_name": "LayoutModel",
          "state": {
            "_view_name": "LayoutView",
            "grid_template_rows": null,
            "right": null,
            "justify_content": null,
            "_view_module": "@jupyter-widgets/base",
            "overflow": null,
            "_model_module_version": "1.2.0",
            "_view_count": null,
            "flex_flow": null,
            "width": null,
            "min_width": null,
            "border": null,
            "align_items": null,
            "bottom": null,
            "_model_module": "@jupyter-widgets/base",
            "top": null,
            "grid_column": null,
            "overflow_y": null,
            "overflow_x": null,
            "grid_auto_flow": null,
            "grid_area": null,
            "grid_template_columns": null,
            "flex": null,
            "_model_name": "LayoutModel",
            "justify_items": null,
            "grid_row": null,
            "max_height": null,
            "align_content": null,
            "visibility": null,
            "align_self": null,
            "height": null,
            "min_height": null,
            "padding": null,
            "grid_auto_rows": null,
            "grid_gap": null,
            "max_width": null,
            "order": null,
            "_view_module_version": "1.2.0",
            "grid_template_areas": null,
            "object_position": null,
            "object_fit": null,
            "grid_auto_columns": null,
            "margin": null,
            "display": null,
            "left": null
          }
        },
        "5f0a1f6597d341e39fde14b3571daad7": {
          "model_module": "@jupyter-widgets/controls",
          "model_name": "DescriptionStyleModel",
          "state": {
            "_view_name": "StyleView",
            "_model_name": "DescriptionStyleModel",
            "description_width": "",
            "_view_module": "@jupyter-widgets/base",
            "_model_module_version": "1.5.0",
            "_view_count": null,
            "_view_module_version": "1.2.0",
            "_model_module": "@jupyter-widgets/controls"
          }
        },
        "1a21cb9b1ec741d3aa628c1223a9fe49": {
          "model_module": "@jupyter-widgets/base",
          "model_name": "LayoutModel",
          "state": {
            "_view_name": "LayoutView",
            "grid_template_rows": null,
            "right": null,
            "justify_content": null,
            "_view_module": "@jupyter-widgets/base",
            "overflow": null,
            "_model_module_version": "1.2.0",
            "_view_count": null,
            "flex_flow": null,
            "width": null,
            "min_width": null,
            "border": null,
            "align_items": null,
            "bottom": null,
            "_model_module": "@jupyter-widgets/base",
            "top": null,
            "grid_column": null,
            "overflow_y": null,
            "overflow_x": null,
            "grid_auto_flow": null,
            "grid_area": null,
            "grid_template_columns": null,
            "flex": null,
            "_model_name": "LayoutModel",
            "justify_items": null,
            "grid_row": null,
            "max_height": null,
            "align_content": null,
            "visibility": null,
            "align_self": null,
            "height": null,
            "min_height": null,
            "padding": null,
            "grid_auto_rows": null,
            "grid_gap": null,
            "max_width": null,
            "order": null,
            "_view_module_version": "1.2.0",
            "grid_template_areas": null,
            "object_position": null,
            "object_fit": null,
            "grid_auto_columns": null,
            "margin": null,
            "display": null,
            "left": null
          }
        }
      }
    }
  },
  "cells": [
    {
      "cell_type": "markdown",
      "metadata": {
        "id": "view-in-github",
        "colab_type": "text"
      },
      "source": [
        "<a href=\"https://colab.research.google.com/github/Shashank-Holla/TSAI-EVA6-Phase1/blob/main/05-Coding-Drill-Down/MNIST_Classification_Model0.ipynb\" target=\"_parent\"><img src=\"https://colab.research.google.com/assets/colab-badge.svg\" alt=\"Open In Colab\"/></a>"
      ]
    },
    {
      "cell_type": "markdown",
      "metadata": {
        "id": "YjTkidLx1R5x"
      },
      "source": [
        "# MNIST Digit classification \n",
        "\n",
        "CNN model for image classification.\n",
        "\n",
        "Target:\n",
        "1. Setup structure for MNIST image classification. Setup of dataset preparation, data transformation, dataloader, first CNN model, train and test loops.\n",
        "\n",
        "Results:\n",
        "1. This is one of the models prepared for the initial assignment. Model size is 1.175 M parameters.\n",
        "2. Training accuracy of 99.98% and test accuracy of 99.5%\n",
        "\n",
        "Analysis:\n",
        "1. Over 1 million parameters for the model makes it quite heavy.\n",
        "2. Training accuracy is higher than test accuracy in this case, indicating over-fitting."
      ]
    },
    {
      "cell_type": "markdown",
      "metadata": {
        "id": "4qTWasEd1lOg"
      },
      "source": [
        "## Necessary packages"
      ]
    },
    {
      "cell_type": "code",
      "metadata": {
        "colab": {
          "base_uri": "https://localhost:8080/"
        },
        "id": "DP4-C4wRhcsD",
        "outputId": "035c1ce0-ede6-48b9-8cec-67f41493b0d5"
      },
      "source": [
        "import numpy as np\n",
        "import matplotlib.pyplot as plt\n",
        "\n",
        "import torch\n",
        "import torch.nn as nn\n",
        "import torch.nn.functional as F\n",
        "import torch.optim as optim\n",
        "from torchsummary import summary\n",
        "from torch.utils.data import Dataset, DataLoader\n",
        "\n",
        "!pip install torchsummary\n",
        "from torchsummary import summary\n",
        "from torchvision import transforms, datasets, utils"
      ],
      "execution_count": null,
      "outputs": [
        {
          "output_type": "stream",
          "text": [
            "Requirement already satisfied: torchsummary in /usr/local/lib/python3.7/dist-packages (1.5.1)\n"
          ],
          "name": "stdout"
        }
      ]
    },
    {
      "cell_type": "markdown",
      "metadata": {
        "id": "Z13G-j2B1vlB"
      },
      "source": [
        "## Prepare dataset"
      ]
    },
    {
      "cell_type": "code",
      "metadata": {
        "id": "2UBm6N4c1dK7"
      },
      "source": [
        "train_transform = transforms.Compose([\n",
        "                                    #   transforms.RandomRotation((-7.0, 7.0), fill=(1,)),\n",
        "                                      transforms.ToTensor(),\n",
        "                                      transforms.Normalize((0.1307,), (0.3081,))\n",
        "                                      ])\n",
        "test_transform = transforms.Compose([\n",
        "                                      transforms.ToTensor(),\n",
        "                                      transforms.Normalize((0.1307,), (0.3081,))\n",
        "                                      ])"
      ],
      "execution_count": null,
      "outputs": []
    },
    {
      "cell_type": "code",
      "metadata": {
        "colab": {
          "base_uri": "https://localhost:8080/",
          "height": 850,
          "referenced_widgets": [
            "7de5aad091db4c9f8633a0c60308584b",
            "0782b9d439f2446bb90b7606551c495c",
            "b1e59bfaaf014b54a37857215adc4f54",
            "782342df23c5407ca47f34652e82f8f6",
            "a2615fa342b041f0a5b9a29aa3c273b7",
            "54a49d8339114479bbe6b6e0d41fc4bd",
            "1df201a9fe1943cb90d734519c54cd77",
            "d42cdfd5b9f74c7aa031fef5c60c7de0",
            "0817b6378058414b9b08284a3926f2e0",
            "78eb3bbf488c435cb3f0434e0355eb27",
            "edd1db82d6344afbb847b6ac43b743cd",
            "146b4fb4bcee453b981bbf7e0bd118a6",
            "0e107b3f6f80474fb7157772e4661995",
            "ac14794b7bae4026a33b14a0c4216bcd",
            "f862a50de4c8482bb9d8ebbcb837ca81",
            "7ab355839e7f4ba8976ee8a0bf2e77d7",
            "19736593138444c58e3f786ad9dd626e",
            "efdfc48de3474c9ebf9144325082424e",
            "a09cb373d10c41c7870c73560f1a1e6a",
            "c0660ebc406f42fa93c806ba0ff26b71",
            "b81845626d8c490fb0c4ab5b8a4ecfc2",
            "45752808ed084615b6cc335dea20b8c2",
            "9a909c1c4d95474cb4fd4a543427ef22",
            "28c2e6f2b41c44e1ae3fc14edce3869f",
            "a098f01a570440b28275983fe752b683",
            "024b6fc763ef435eb2ed0b1ba81c0e4f",
            "5bcbaf5d0e67410aa505540728529add",
            "29880b7534504f209425f018625821d5",
            "83eed2e7cec24bf49aa9069b9dd1356d",
            "e19bf20e780d4676aa62c593fd2d3250",
            "5f0a1f6597d341e39fde14b3571daad7",
            "1a21cb9b1ec741d3aa628c1223a9fe49"
          ]
        },
        "id": "dKSuurGK1xyz",
        "outputId": "acc1c443-43a6-4441-a4cd-643a9f8074fd"
      },
      "source": [
        "train_dataset = datasets.MNIST(root='../data', train=True, transform=train_transform, download=True)\n",
        "test_dataset = datasets.MNIST(root='../data', train=False, transform=test_transform, download=True)"
      ],
      "execution_count": null,
      "outputs": [
        {
          "output_type": "stream",
          "text": [
            "Downloading http://yann.lecun.com/exdb/mnist/train-images-idx3-ubyte.gz\n",
            "Downloading http://yann.lecun.com/exdb/mnist/train-images-idx3-ubyte.gz to ../data/MNIST/raw/train-images-idx3-ubyte.gz\n",
            "Failed to download (trying next):\n",
            "HTTP Error 503: Service Unavailable\n",
            "\n",
            "Downloading https://ossci-datasets.s3.amazonaws.com/mnist/train-images-idx3-ubyte.gz\n",
            "Downloading https://ossci-datasets.s3.amazonaws.com/mnist/train-images-idx3-ubyte.gz to ../data/MNIST/raw/train-images-idx3-ubyte.gz\n"
          ],
          "name": "stdout"
        },
        {
          "output_type": "display_data",
          "data": {
            "application/vnd.jupyter.widget-view+json": {
              "model_id": "7de5aad091db4c9f8633a0c60308584b",
              "version_minor": 0,
              "version_major": 2
            },
            "text/plain": [
              "HBox(children=(FloatProgress(value=0.0, max=9912422.0), HTML(value='')))"
            ]
          },
          "metadata": {
            "tags": []
          }
        },
        {
          "output_type": "stream",
          "text": [
            "\n",
            "Extracting ../data/MNIST/raw/train-images-idx3-ubyte.gz to ../data/MNIST/raw\n",
            "\n",
            "Downloading http://yann.lecun.com/exdb/mnist/train-labels-idx1-ubyte.gz\n",
            "Failed to download (trying next):\n",
            "HTTP Error 503: Service Unavailable\n",
            "\n",
            "Downloading https://ossci-datasets.s3.amazonaws.com/mnist/train-labels-idx1-ubyte.gz\n",
            "Downloading https://ossci-datasets.s3.amazonaws.com/mnist/train-labels-idx1-ubyte.gz to ../data/MNIST/raw/train-labels-idx1-ubyte.gz\n"
          ],
          "name": "stdout"
        },
        {
          "output_type": "display_data",
          "data": {
            "application/vnd.jupyter.widget-view+json": {
              "model_id": "0817b6378058414b9b08284a3926f2e0",
              "version_minor": 0,
              "version_major": 2
            },
            "text/plain": [
              "HBox(children=(FloatProgress(value=0.0, max=28881.0), HTML(value='')))"
            ]
          },
          "metadata": {
            "tags": []
          }
        },
        {
          "output_type": "stream",
          "text": [
            "\n",
            "Extracting ../data/MNIST/raw/train-labels-idx1-ubyte.gz to ../data/MNIST/raw\n",
            "\n",
            "Downloading http://yann.lecun.com/exdb/mnist/t10k-images-idx3-ubyte.gz\n",
            "Failed to download (trying next):\n",
            "HTTP Error 503: Service Unavailable\n",
            "\n",
            "Downloading https://ossci-datasets.s3.amazonaws.com/mnist/t10k-images-idx3-ubyte.gz\n",
            "Downloading https://ossci-datasets.s3.amazonaws.com/mnist/t10k-images-idx3-ubyte.gz to ../data/MNIST/raw/t10k-images-idx3-ubyte.gz\n"
          ],
          "name": "stdout"
        },
        {
          "output_type": "display_data",
          "data": {
            "application/vnd.jupyter.widget-view+json": {
              "model_id": "19736593138444c58e3f786ad9dd626e",
              "version_minor": 0,
              "version_major": 2
            },
            "text/plain": [
              "HBox(children=(FloatProgress(value=0.0, max=1648877.0), HTML(value='')))"
            ]
          },
          "metadata": {
            "tags": []
          }
        },
        {
          "output_type": "stream",
          "text": [
            "\n",
            "Extracting ../data/MNIST/raw/t10k-images-idx3-ubyte.gz to ../data/MNIST/raw\n",
            "\n",
            "Downloading http://yann.lecun.com/exdb/mnist/t10k-labels-idx1-ubyte.gz\n",
            "Failed to download (trying next):\n",
            "HTTP Error 503: Service Unavailable\n",
            "\n",
            "Downloading https://ossci-datasets.s3.amazonaws.com/mnist/t10k-labels-idx1-ubyte.gz\n",
            "Downloading https://ossci-datasets.s3.amazonaws.com/mnist/t10k-labels-idx1-ubyte.gz to ../data/MNIST/raw/t10k-labels-idx1-ubyte.gz\n"
          ],
          "name": "stdout"
        },
        {
          "output_type": "display_data",
          "data": {
            "application/vnd.jupyter.widget-view+json": {
              "model_id": "a098f01a570440b28275983fe752b683",
              "version_minor": 0,
              "version_major": 2
            },
            "text/plain": [
              "HBox(children=(FloatProgress(value=0.0, max=4542.0), HTML(value='')))"
            ]
          },
          "metadata": {
            "tags": []
          }
        },
        {
          "output_type": "stream",
          "text": [
            "\n",
            "Extracting ../data/MNIST/raw/t10k-labels-idx1-ubyte.gz to ../data/MNIST/raw\n",
            "\n",
            "Processing...\n",
            "Done!\n"
          ],
          "name": "stdout"
        },
        {
          "output_type": "stream",
          "text": [
            "/usr/local/lib/python3.7/dist-packages/torchvision/datasets/mnist.py:502: UserWarning: The given NumPy array is not writeable, and PyTorch does not support non-writeable tensors. This means you can write to the underlying (supposedly non-writeable) NumPy array using the tensor. You may want to copy the array to protect its data or make it writeable before converting it to a tensor. This type of warning will be suppressed for the rest of this program. (Triggered internally at  /pytorch/torch/csrc/utils/tensor_numpy.cpp:143.)\n",
            "  return torch.from_numpy(parsed.astype(m[2], copy=False)).view(*s)\n"
          ],
          "name": "stderr"
        }
      ]
    },
    {
      "cell_type": "code",
      "metadata": {
        "colab": {
          "base_uri": "https://localhost:8080/"
        },
        "id": "4xyUuWkX1zfr",
        "outputId": "199432b7-9331-415d-9bbd-759f8a9249df"
      },
      "source": [
        "sample = next(iter(train_dataset))\n",
        "data, label = sample\n",
        "print(data.shape, type(data))"
      ],
      "execution_count": null,
      "outputs": [
        {
          "output_type": "stream",
          "text": [
            "torch.Size([1, 28, 28]) <class 'torch.Tensor'>\n"
          ],
          "name": "stdout"
        }
      ]
    },
    {
      "cell_type": "markdown",
      "metadata": {
        "id": "1juP-ToU183p"
      },
      "source": [
        "Dataloader"
      ]
    },
    {
      "cell_type": "code",
      "metadata": {
        "id": "M8sNYAiq11PL"
      },
      "source": [
        "batch_size = 128\n",
        "kwargs = {'num_workers': 1, 'pin_memory': True}\n",
        "train_loader = DataLoader(train_dataset, batch_size = batch_size, shuffle = True, **kwargs)\n",
        "test_loader = DataLoader(test_dataset, batch_size = batch_size, shuffle = True, **kwargs)"
      ],
      "execution_count": null,
      "outputs": []
    },
    {
      "cell_type": "code",
      "metadata": {
        "colab": {
          "base_uri": "https://localhost:8080/"
        },
        "id": "pnajQjlc1-5L",
        "outputId": "a36d9e29-4d85-4c6a-8ab2-2566b54ef254"
      },
      "source": [
        "sample_images, sample_labels = next(iter(train_loader))\n",
        "print(sample_images[:16].shape)"
      ],
      "execution_count": null,
      "outputs": [
        {
          "output_type": "stream",
          "text": [
            "torch.Size([16, 1, 28, 28])\n"
          ],
          "name": "stdout"
        }
      ]
    },
    {
      "cell_type": "code",
      "metadata": {
        "colab": {
          "base_uri": "https://localhost:8080/",
          "height": 298
        },
        "id": "Q66iMinH2AeM",
        "outputId": "966178b6-52aa-44ea-fbcc-9447b96418e7"
      },
      "source": [
        "grid_image = utils.make_grid(sample_images[:16], nrow=4, padding=1, pad_value=1)\n",
        "print(grid_image.shape)\n",
        "plt.imshow(grid_image.permute(1,2,0))\n",
        "plt.axis('off')"
      ],
      "execution_count": null,
      "outputs": [
        {
          "output_type": "stream",
          "text": [
            "Clipping input data to the valid range for imshow with RGB data ([0..1] for floats or [0..255] for integers).\n"
          ],
          "name": "stderr"
        },
        {
          "output_type": "stream",
          "text": [
            "torch.Size([3, 117, 117])\n"
          ],
          "name": "stdout"
        },
        {
          "output_type": "execute_result",
          "data": {
            "text/plain": [
              "(-0.5, 116.5, 116.5, -0.5)"
            ]
          },
          "metadata": {
            "tags": []
          },
          "execution_count": 8
        },
        {
          "output_type": "display_data",
          "data": {
            "image/png": "[encoded data removed]",
            "text/plain": [
              "<Figure size 432x288 with 1 Axes>"
            ]
          },
          "metadata": {
            "tags": [],
            "needs_background": "light"
          }
        }
      ]
    },
    {
      "cell_type": "markdown",
      "metadata": {
        "id": "dmTbdr1C5Ii6"
      },
      "source": [
        "## CNN model"
      ]
    },
    {
      "cell_type": "code",
      "metadata": {
        "id": "7QiMKxe05JvT"
      },
      "source": [
        "# Object Recognition\n",
        "class Net(nn.Module):\n",
        "    def __init__(self):\n",
        "        super(Net, self).__init__()\n",
        "        self.conv1 = nn.Sequential(\n",
        "            nn.Conv2d(in_channels=1, out_channels=32, kernel_size=3, padding=1, bias=False),\n",
        "            nn.BatchNorm2d(32),\n",
        "            nn.ReLU()\n",
        "            )\n",
        "        \n",
        "        self.conv2 = nn.Sequential(\n",
        "            nn.Conv2d(in_channels=32, out_channels=32, kernel_size=3, padding=1, bias=False),\n",
        "            nn.BatchNorm2d(32),\n",
        "            nn.ReLU()\n",
        "            )\n",
        "        \n",
        "        self.maxpool1 = nn.MaxPool2d(2, 2)\n",
        "\n",
        "        self.conv3 = nn.Sequential(\n",
        "            nn.Conv2d(in_channels=32, out_channels=64, kernel_size=3, padding=1, bias=False),\n",
        "            nn.BatchNorm2d(64),\n",
        "            nn.ReLU()\n",
        "            )\n",
        "        \n",
        "        self.conv4 = nn.Sequential(\n",
        "            nn.Conv2d(in_channels=64, out_channels=64, kernel_size=3, padding=1, bias=False),\n",
        "            nn.BatchNorm2d(64),\n",
        "            nn.ReLU()\n",
        "            )\n",
        "        \n",
        "        self.maxpool2 = nn.MaxPool2d(2, 2)\n",
        "\n",
        "        self.conv5 = nn.Sequential(\n",
        "            nn.Conv2d(in_channels=64, out_channels=128, kernel_size=3, padding=1, bias=False),\n",
        "            nn.BatchNorm2d(128),\n",
        "            nn.ReLU()\n",
        "            )\n",
        "        \n",
        "        self.conv6 = nn.Sequential(\n",
        "            nn.Conv2d(in_channels=128, out_channels=128, kernel_size=3, padding=1, bias=False),\n",
        "            nn.BatchNorm2d(128),\n",
        "            nn.ReLU()\n",
        "            )\n",
        "        \n",
        "        self.conv7 = nn.Sequential(\n",
        "            nn.Conv2d(in_channels=128, out_channels=256, kernel_size=3, padding=1, bias=False),\n",
        "            nn.BatchNorm2d(256),\n",
        "            nn.ReLU()\n",
        "            )\n",
        "        \n",
        "        self.conv8 = nn.Sequential(\n",
        "            nn.Conv2d(in_channels=256, out_channels=256, kernel_size=3, padding=1, bias=False),\n",
        "            nn.BatchNorm2d(256),\n",
        "            nn.ReLU()\n",
        "            )\n",
        "        \n",
        "        self.gap = nn.Sequential(\n",
        "            nn.AvgPool2d(kernel_size=7)\n",
        "        )\n",
        "\n",
        "        self.conv9 = nn.Sequential(\n",
        "            nn.Conv2d(in_channels=256, out_channels=10, kernel_size=1, padding=0, bias=False),\n",
        "            )\n",
        "    \n",
        "    def forward(self, x):\n",
        "        x = self.conv1(x)\n",
        "        x = self.conv2(x)\n",
        "        x = self.maxpool1(x)\n",
        "        x = self.conv3(x)\n",
        "        x = self.conv4(x)\n",
        "        x = self.maxpool2(x)\n",
        "        x = self.conv5(x)\n",
        "        x = self.conv6(x)\n",
        "        x = self.conv7(x)\n",
        "        x = self.conv8(x)\n",
        "        x = self.gap(x)\n",
        "        x = self.conv9(x)\n",
        "        x = x.view(-1, 10)\n",
        "        # print(\"Shape of output:\", x.shape)\n",
        "        return x   \n"
      ],
      "execution_count": null,
      "outputs": []
    },
    {
      "cell_type": "code",
      "metadata": {
        "colab": {
          "base_uri": "https://localhost:8080/"
        },
        "id": "KSfCJPwC5lTk",
        "outputId": "4484cd04-2d01-4f68-a6f2-ae9d4cd7406f"
      },
      "source": [
        "use_cuda = torch.cuda.is_available()\n",
        "# hid_dim =\n",
        "device = torch.device(\"cuda\" if use_cuda else \"cpu\")\n",
        "print(\"Available device:\",device)\n",
        "model = Net().to(device)\n",
        "summary(model, input_size=(1, 28, 28))"
      ],
      "execution_count": null,
      "outputs": [
        {
          "output_type": "stream",
          "text": [
            "Available device: cuda\n",
            "----------------------------------------------------------------\n",
            "        Layer (type)               Output Shape         Param #\n",
            "================================================================\n",
            "            Conv2d-1           [-1, 32, 28, 28]             288\n",
            "       BatchNorm2d-2           [-1, 32, 28, 28]              64\n",
            "              ReLU-3           [-1, 32, 28, 28]               0\n",
            "            Conv2d-4           [-1, 32, 28, 28]           9,216\n",
            "       BatchNorm2d-5           [-1, 32, 28, 28]              64\n",
            "              ReLU-6           [-1, 32, 28, 28]               0\n",
            "         MaxPool2d-7           [-1, 32, 14, 14]               0\n",
            "            Conv2d-8           [-1, 64, 14, 14]          18,432\n",
            "       BatchNorm2d-9           [-1, 64, 14, 14]             128\n",
            "             ReLU-10           [-1, 64, 14, 14]               0\n",
            "           Conv2d-11           [-1, 64, 14, 14]          36,864\n",
            "      BatchNorm2d-12           [-1, 64, 14, 14]             128\n",
            "             ReLU-13           [-1, 64, 14, 14]               0\n",
            "        MaxPool2d-14             [-1, 64, 7, 7]               0\n",
            "           Conv2d-15            [-1, 128, 7, 7]          73,728\n",
            "      BatchNorm2d-16            [-1, 128, 7, 7]             256\n",
            "             ReLU-17            [-1, 128, 7, 7]               0\n",
            "           Conv2d-18            [-1, 128, 7, 7]         147,456\n",
            "      BatchNorm2d-19            [-1, 128, 7, 7]             256\n",
            "             ReLU-20            [-1, 128, 7, 7]               0\n",
            "           Conv2d-21            [-1, 256, 7, 7]         294,912\n",
            "      BatchNorm2d-22            [-1, 256, 7, 7]             512\n",
            "             ReLU-23            [-1, 256, 7, 7]               0\n",
            "           Conv2d-24            [-1, 256, 7, 7]         589,824\n",
            "      BatchNorm2d-25            [-1, 256, 7, 7]             512\n",
            "             ReLU-26            [-1, 256, 7, 7]               0\n",
            "        AvgPool2d-27            [-1, 256, 1, 1]               0\n",
            "           Conv2d-28             [-1, 10, 1, 1]           2,560\n",
            "================================================================\n",
            "Total params: 1,175,200\n",
            "Trainable params: 1,175,200\n",
            "Non-trainable params: 0\n",
            "----------------------------------------------------------------\n",
            "Input size (MB): 0.00\n",
            "Forward/backward pass size (MB): 2.66\n",
            "Params size (MB): 4.48\n",
            "Estimated Total Size (MB): 7.14\n",
            "----------------------------------------------------------------\n"
          ],
          "name": "stdout"
        }
      ]
    },
    {
      "cell_type": "markdown",
      "metadata": {
        "id": "UpjUWoWi5q7p"
      },
      "source": [
        "## Train and Test"
      ]
    },
    {
      "cell_type": "code",
      "metadata": {
        "id": "W1afs0A_2CLU"
      },
      "source": [
        "# Train\n",
        "\n",
        "def train(model, device, train_loader, optimizer, criterion):\n",
        "    model.train()\n",
        "\n",
        "    # collect stats - for accuracy calculation\n",
        "    correct = 0\n",
        "    processed = 0\n",
        "    batch_loss = 0\n",
        "    epoch_loss = 0\n",
        "    epoch_accuracy = 0\n",
        "\n",
        "    for batch_id, batch in enumerate(train_loader):\n",
        "        data = batch[0].to(device)\n",
        "        target = batch[1].to(device)\n",
        "\n",
        "        optimizer.zero_grad()\n",
        "\n",
        "        # Gather prediction and calculate loss + backward pass + optimize weights\n",
        "        label_pred = model(data)\n",
        "        label_loss = criterion(label_pred, target)\n",
        "        # Calculate gradients\n",
        "        label_loss.backward()\n",
        "        # Optimizer\n",
        "        optimizer.step()\n",
        "\n",
        "        # Metrics calculation- For epoch Accuracy(total correct pred/total items) and loss \n",
        "        pred = label_pred.argmax(dim=1, keepdim=True)\n",
        "        correct += pred.eq(target.view_as(pred)).sum().item()\n",
        "        processed += len(data)\n",
        "        epoch_loss += label_loss.item()\n",
        "    \n",
        "    epoch_accuracy = (100*correct/processed)\n",
        "    epoch_loss /= len(train_loader)\n",
        "    print(f\"Train set: Epoch Accuracy: {round(epoch_accuracy, 2)}  Epoch Loss: {round(epoch_loss, 4)}\")\n",
        "\n",
        "    return epoch_accuracy, epoch_loss"
      ],
      "execution_count": null,
      "outputs": []
    },
    {
      "cell_type": "code",
      "metadata": {
        "id": "llQtDqkZ54ks"
      },
      "source": [
        "# Test\n",
        "def test(model, device, test_loader, criterion):\n",
        "    model.eval()\n",
        "\n",
        "    # collect stats - for accuracy calculation\n",
        "    correct = 0\n",
        "    processed = 0\n",
        "    batch_loss = 0\n",
        "    epoch_loss = 0\n",
        "    epoch_accuracy = 0\n",
        "\n",
        "    with torch.no_grad():        \n",
        "        for batch_id, batch in enumerate(test_loader):\n",
        "            data = batch[0].to(device)\n",
        "            target = batch[1].to(device)\n",
        "\n",
        "            label_pred = model(data)\n",
        "            label_loss = criterion(label_pred, target)\n",
        "\n",
        "            # Metrics calculation\n",
        "            pred = label_pred.argmax(dim=1, keepdim=True)\n",
        "            correct += pred.eq(target.view_as(pred)).sum().item()\n",
        "            processed += len(data)\n",
        "            epoch_loss += label_loss.item()\n",
        "        \n",
        "    epoch_accuracy = (100*correct)/processed\n",
        "    epoch_loss /= len(test_loader)\n",
        "    print(f\"Test set: Epoch Accuracy: {round(epoch_accuracy, 2)}  Epoch Loss: {round(epoch_loss, 4)}\")\n",
        "    return epoch_accuracy, epoch_loss"
      ],
      "execution_count": null,
      "outputs": []
    },
    {
      "cell_type": "markdown",
      "metadata": {
        "id": "ZXclVGA458GS"
      },
      "source": [
        "## Model training and Validation"
      ]
    },
    {
      "cell_type": "code",
      "metadata": {
        "colab": {
          "base_uri": "https://localhost:8080/"
        },
        "id": "cZti2VQn56aj",
        "outputId": "0ffc09c6-fd0d-4335-b2a0-06d1ed45cccb"
      },
      "source": [
        "EPOCHS = 20\n",
        "train_accuracy = []\n",
        "test_accuracy = []\n",
        "train_loss = []\n",
        "test_loss = []\n",
        "\n",
        "# Optimization algorithm from torch.optim\n",
        "optimizer = optim.SGD(model.parameters(), lr=0.04, momentum=0.9)\n",
        "# Loss condition\n",
        "criterion = nn.CrossEntropyLoss()\n",
        "\n",
        "for epochs in range(EPOCHS):\n",
        "    print(f\"Epoch: {epochs}\")\n",
        "    train_acc_delta, train_loss_delta = train(model, device, train_loader, optimizer, criterion)\n",
        "    test_acc_delta, test_loss_delta = test(model, device, test_loader, criterion)\n",
        "\n",
        "    train_accuracy.append(round(train_acc_delta, 2))\n",
        "    train_loss.append(round(train_loss_delta, 4))\n",
        "    test_accuracy.append(round(test_acc_delta, 2))\n",
        "    test_loss.append(round(test_loss_delta, 4))"
      ],
      "execution_count": null,
      "outputs": [
        {
          "output_type": "stream",
          "text": [
            "Epoch: 0\n",
            "Train set: Epoch Accuracy: 96.42  Epoch Loss: 0.1198\n",
            "Test set: Epoch Accuracy: 98.47  Epoch Loss: 0.0491\n",
            "Epoch: 1\n",
            "Train set: Epoch Accuracy: 99.01  Epoch Loss: 0.0311\n",
            "Test set: Epoch Accuracy: 99.12  Epoch Loss: 0.0292\n",
            "Epoch: 2\n",
            "Train set: Epoch Accuracy: 99.32  Epoch Loss: 0.0213\n",
            "Test set: Epoch Accuracy: 98.88  Epoch Loss: 0.0341\n",
            "Epoch: 3\n",
            "Train set: Epoch Accuracy: 99.52  Epoch Loss: 0.0155\n",
            "Test set: Epoch Accuracy: 99.28  Epoch Loss: 0.023\n",
            "Epoch: 4\n",
            "Train set: Epoch Accuracy: 99.62  Epoch Loss: 0.0119\n",
            "Test set: Epoch Accuracy: 99.21  Epoch Loss: 0.0216\n",
            "Epoch: 5\n",
            "Train set: Epoch Accuracy: 99.73  Epoch Loss: 0.0096\n",
            "Test set: Epoch Accuracy: 99.23  Epoch Loss: 0.0229\n",
            "Epoch: 6\n",
            "Train set: Epoch Accuracy: 99.68  Epoch Loss: 0.0093\n",
            "Test set: Epoch Accuracy: 99.01  Epoch Loss: 0.0296\n",
            "Epoch: 7\n",
            "Train set: Epoch Accuracy: 99.83  Epoch Loss: 0.0062\n",
            "Test set: Epoch Accuracy: 99.4  Epoch Loss: 0.0162\n",
            "Epoch: 8\n",
            "Train set: Epoch Accuracy: 99.82  Epoch Loss: 0.0056\n",
            "Test set: Epoch Accuracy: 99.3  Epoch Loss: 0.0217\n",
            "Epoch: 9\n",
            "Train set: Epoch Accuracy: 99.83  Epoch Loss: 0.0053\n",
            "Test set: Epoch Accuracy: 99.16  Epoch Loss: 0.0254\n",
            "Epoch: 10\n",
            "Train set: Epoch Accuracy: 99.88  Epoch Loss: 0.004\n",
            "Test set: Epoch Accuracy: 99.43  Epoch Loss: 0.0191\n",
            "Epoch: 11\n",
            "Train set: Epoch Accuracy: 99.94  Epoch Loss: 0.0024\n",
            "Test set: Epoch Accuracy: 99.37  Epoch Loss: 0.0192\n",
            "Epoch: 12\n",
            "Train set: Epoch Accuracy: 99.91  Epoch Loss: 0.0031\n",
            "Test set: Epoch Accuracy: 99.37  Epoch Loss: 0.0213\n",
            "Epoch: 13\n",
            "Train set: Epoch Accuracy: 99.92  Epoch Loss: 0.0026\n",
            "Test set: Epoch Accuracy: 99.48  Epoch Loss: 0.0159\n",
            "Epoch: 14\n",
            "Train set: Epoch Accuracy: 99.98  Epoch Loss: 0.0011\n",
            "Test set: Epoch Accuracy: 99.53  Epoch Loss: 0.0154\n",
            "Epoch: 15\n",
            "Train set: Epoch Accuracy: 99.99  Epoch Loss: 0.0007\n",
            "Test set: Epoch Accuracy: 99.51  Epoch Loss: 0.0157\n",
            "Epoch: 16\n",
            "Train set: Epoch Accuracy: 99.99  Epoch Loss: 0.0007\n",
            "Test set: Epoch Accuracy: 99.47  Epoch Loss: 0.0174\n",
            "Epoch: 17\n",
            "Train set: Epoch Accuracy: 99.97  Epoch Loss: 0.001\n",
            "Test set: Epoch Accuracy: 99.49  Epoch Loss: 0.0184\n",
            "Epoch: 18\n",
            "Train set: Epoch Accuracy: 99.98  Epoch Loss: 0.0007\n",
            "Test set: Epoch Accuracy: 99.54  Epoch Loss: 0.0139\n",
            "Epoch: 19\n",
            "Train set: Epoch Accuracy: 100.0  Epoch Loss: 0.0002\n",
            "Test set: Epoch Accuracy: 99.55  Epoch Loss: 0.015\n"
          ],
          "name": "stdout"
        }
      ]
    },
    {
      "cell_type": "code",
      "metadata": {
        "colab": {
          "base_uri": "https://localhost:8080/",
          "height": 438
        },
        "id": "OLTdRZfJ6KKT",
        "outputId": "a28907d7-810a-43b9-dc60-02e99a875868"
      },
      "source": [
        "%matplotlib inline\n",
        "\n",
        "fig, axs = plt.subplots(1,2,figsize=(15,6))\n",
        "axs[0].plot(train_loss, label=\"Train Loss\")\n",
        "axs[0].plot(test_loss, label = \"Test Loss\")\n",
        "axs[0].set_title(\"Loss vs Epoch\")\n",
        "axs[0].set_xlabel(\"Epoch\")\n",
        "axs[0].set_ylabel(\"Loss\")\n",
        "axs[0].legend(loc=\"best\")\n",
        "\n",
        "axs[1].plot(train_accuracy, label=\"Train Accuracy\")\n",
        "axs[1].plot(test_accuracy, label=\"Test Accuracy\")\n",
        "axs[1].set_title(\"Accuracy vs Epoch\")\n",
        "axs[1].set_xlabel(\"Epoch\")\n",
        "axs[1].set_ylabel(\"Accuracy in %\")\n",
        "axs[1].legend(loc=\"best\")\n",
        "\n",
        "plt.figure()"
      ],
      "execution_count": null,
      "outputs": [
        {
          "output_type": "execute_result",
          "data": {
            "text/plain": [
              "<Figure size 432x288 with 0 Axes>"
            ]
          },
          "metadata": {
            "tags": []
          },
          "execution_count": 24
        },
        {
          "output_type": "display_data",
          "data": {
            "image/png": "[encoded data removed]",
            "text/plain": [
              "<Figure size 1080x432 with 2 Axes>"
            ]
          },
          "metadata": {
            "tags": [],
            "needs_background": "light"
          }
        },
        {
          "output_type": "display_data",
          "data": {
            "text/plain": [
              "<Figure size 432x288 with 0 Axes>"
            ]
          },
          "metadata": {
            "tags": []
          }
        }
      ]
    }
  ]
}