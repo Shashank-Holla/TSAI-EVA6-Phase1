{
  "nbformat": 4,
  "nbformat_minor": 0,
  "metadata": {
    "colab": {
      "name": "EVA6_S4_MNIST_under20K.ipynb",
      "provenance": [],
      "collapsed_sections": [],
      "toc_visible": true,
      "authorship_tag": "ABX9TyM+OKQkjmT0R24M1eklFpXG",
      "include_colab_link": true
    },
    "kernelspec": {
      "name": "python3",
      "display_name": "Python 3"
    },
    "language_info": {
      "name": "python"
    },
    "accelerator": "GPU"
  },
  "cells": [
    {
      "cell_type": "markdown",
      "metadata": {
        "id": "view-in-github",
        "colab_type": "text"
      },
      "source": [
        "<a href=\"https://colab.research.google.com/github/Shashank-Holla/TSAI-EVA6-Phase1/blob/main/04-BackPropogation/EVA6_S4_MNIST_under20K.ipynb\" target=\"_parent\"><img src=\"https://colab.research.google.com/assets/colab-badge.svg\" alt=\"Open In Colab\"/></a>"
      ]
    },
    {
      "cell_type": "markdown",
      "metadata": {
        "id": "zwXGqyUlv1iM"
      },
      "source": [
        "# MNIST Digit classification \n",
        "\n",
        "Objective is to prepare a convolutional neural network that can achieve about 99.4% validation accuracy with model parameters less than 20K."
      ]
    },
    {
      "cell_type": "markdown",
      "metadata": {
        "id": "GixfCrscxOV7"
      },
      "source": [
        "## Necessary packages"
      ]
    },
    {
      "cell_type": "code",
      "metadata": {
        "colab": {
          "base_uri": "https://localhost:8080/"
        },
        "id": "T-KxhXLcsObg",
        "outputId": "2cdbc49d-24fc-4eec-9d9a-3d470ab5b9bb"
      },
      "source": [
        "import numpy as np\n",
        "import matplotlib.pyplot as plt\n",
        "\n",
        "import torch\n",
        "import torch.nn as nn\n",
        "import torch.nn.functional as F\n",
        "import torch.optim as optim\n",
        "from torchsummary import summary\n",
        "from torch.utils.data import Dataset, DataLoader\n",
        "\n",
        "!pip install torchsummary\n",
        "from torchsummary import summary\n",
        "from torchvision import transforms, datasets, utils"
      ],
      "execution_count": 1,
      "outputs": [
        {
          "output_type": "stream",
          "text": [
            "Requirement already satisfied: torchsummary in /usr/local/lib/python3.7/dist-packages (1.5.1)\n"
          ],
          "name": "stdout"
        }
      ]
    },
    {
      "cell_type": "markdown",
      "metadata": {
        "id": "ALfqCE8QxR6R"
      },
      "source": [
        "## Prepare dataset"
      ]
    },
    {
      "cell_type": "code",
      "metadata": {
        "id": "mBmR9ud2zZke"
      },
      "source": [
        "train_transform = transforms.Compose([\n",
        "                                      transforms.RandomRotation((-7.0, 7.0), fill=(1,)),\n",
        "                                      transforms.ToTensor(),\n",
        "                                      transforms.Normalize((0.1307,), (0.3081,))\n",
        "                                      ])\n",
        "test_transform = transforms.Compose([\n",
        "                                      transforms.ToTensor(),\n",
        "                                      transforms.Normalize((0.1307,), (0.3081,))\n",
        "                                      ])"
      ],
      "execution_count": 2,
      "outputs": []
    },
    {
      "cell_type": "code",
      "metadata": {
        "id": "RiAdrHUCxTQN"
      },
      "source": [
        "train_dataset = datasets.MNIST(root='../data', train=True, transform=train_transform, download=True)\n",
        "test_dataset = datasets.MNIST(root='../data', train=False, transform=test_transform, download=True)"
      ],
      "execution_count": 3,
      "outputs": []
    },
    {
      "cell_type": "code",
      "metadata": {
        "colab": {
          "base_uri": "https://localhost:8080/"
        },
        "id": "jNdrC7-62Sx2",
        "outputId": "c617a3cf-1188-477f-c9b2-bf64eff868d5"
      },
      "source": [
        "sample = next(iter(train_dataset))\n",
        "data, label = sample\n",
        "print(data.shape, type(data))"
      ],
      "execution_count": 4,
      "outputs": [
        {
          "output_type": "stream",
          "text": [
            "torch.Size([1, 28, 28]) <class 'torch.Tensor'>\n"
          ],
          "name": "stdout"
        }
      ]
    },
    {
      "cell_type": "markdown",
      "metadata": {
        "id": "HvCFtLGh0sRA"
      },
      "source": [
        "Dataloaders"
      ]
    },
    {
      "cell_type": "code",
      "metadata": {
        "id": "kgMtJMwR0thh"
      },
      "source": [
        "batch_size = 128\n",
        "kwargs = {'num_workers': 1, 'pin_memory': True}\n",
        "train_loader = DataLoader(train_dataset, batch_size = batch_size, shuffle = True, **kwargs)\n",
        "test_loader = DataLoader(test_dataset, batch_size = batch_size, shuffle = True, **kwargs)"
      ],
      "execution_count": 5,
      "outputs": []
    },
    {
      "cell_type": "code",
      "metadata": {
        "colab": {
          "base_uri": "https://localhost:8080/"
        },
        "id": "BvDqnLjGCaGy",
        "outputId": "6c894b0d-a4b4-4621-9797-70dd63c06c42"
      },
      "source": [
        "sample_images, sample_labels = next(iter(train_loader))\n",
        "print(sample_images[:16].shape)"
      ],
      "execution_count": 6,
      "outputs": [
        {
          "output_type": "stream",
          "text": [
            "torch.Size([16, 1, 28, 28])\n"
          ],
          "name": "stdout"
        }
      ]
    },
    {
      "cell_type": "code",
      "metadata": {
        "colab": {
          "base_uri": "https://localhost:8080/",
          "height": 298
        },
        "id": "Z6YJq39NCKAt",
        "outputId": "196325b0-fcf8-4f1e-93f2-baa0db6eabbd"
      },
      "source": [
        "grid_image = utils.make_grid(sample_images[:16], nrow=4, padding=1, pad_value=1)\n",
        "print(grid_image.shape)\n",
        "plt.imshow(grid_image.permute(1,2,0))\n",
        "plt.axis('off')"
      ],
      "execution_count": 7,
      "outputs": [
        {
          "output_type": "stream",
          "text": [
            "Clipping input data to the valid range for imshow with RGB data ([0..1] for floats or [0..255] for integers).\n"
          ],
          "name": "stderr"
        },
        {
          "output_type": "stream",
          "text": [
            "torch.Size([3, 117, 117])\n"
          ],
          "name": "stdout"
        },
        {
          "output_type": "execute_result",
          "data": {
            "text/plain": [
              "(-0.5, 116.5, 116.5, -0.5)"
            ]
          },
          "metadata": {
            "tags": []
          },
          "execution_count": 7
        },
        {
          "output_type": "display_data",
          "data": {
            "image/png": "[encoded data removed]",
            "text/plain": [
              "<Figure size 432x288 with 1 Axes>"
            ]
          },
          "metadata": {
            "tags": [],
            "needs_background": "light"
          }
        }
      ]
    },
    {
      "cell_type": "markdown",
      "metadata": {
        "id": "6ui5XGtw1RKi"
      },
      "source": [
        "## CNN model"
      ]
    },
    {
      "cell_type": "code",
      "metadata": {
        "id": "mhJjt79x5KeG"
      },
      "source": [
        "# # 4 block model\n",
        "# dropout_value = 0.069\n",
        "# class Net(nn.Module):\n",
        "#     def __init__(self):\n",
        "#         super(Net, self).__init__()\n",
        "#         self.convblock1 = nn.Sequential(\n",
        "#             nn.Conv2d(in_channels=1, out_channels=8, kernel_size=(3, 3), padding=1, bias=False),\n",
        "#             nn.ReLU(),\n",
        "#             nn.BatchNorm2d(8),\n",
        "#             nn.Dropout(dropout_value)                        \n",
        "#         )\n",
        "#         self.convblock2 = nn.Sequential(\n",
        "#             nn.Conv2d(in_channels=8, out_channels=16, kernel_size=(3, 3), padding=1, bias=False),\n",
        "#             nn.ReLU(),\n",
        "#             nn.BatchNorm2d(16),\n",
        "#             nn.Dropout(dropout_value),\n",
        "#             nn.Conv2d(in_channels=16, out_channels=16, kernel_size=(3, 3), padding=1, bias=False),\n",
        "#             nn.ReLU(),\n",
        "#             nn.BatchNorm2d(16),\n",
        "#             nn.Dropout(dropout_value)                         \n",
        "#         )\n",
        "#         # Maxpooling\n",
        "#         self.pool1 = nn.MaxPool2d(2, 2) \n",
        "#         # TRANSITION BLOCK 1\n",
        "#         self.transitionblock1 = nn.Sequential(\n",
        "#             nn.Conv2d(in_channels=16, out_channels=8, kernel_size=(1, 1), padding=0, bias=False),\n",
        "#         )\n",
        "#         self.convblock3 = nn.Sequential(\n",
        "#             nn.Conv2d(in_channels=8, out_channels=16, kernel_size=(3, 3), padding=1, bias=False),\n",
        "#             nn.ReLU(),\n",
        "#             nn.BatchNorm2d(16),\n",
        "#             nn.Dropout(dropout_value)                        \n",
        "#         )\n",
        "#         self.convblock4 = nn.Sequential(\n",
        "#             nn.Conv2d(in_channels=16, out_channels=32, kernel_size=(3, 3), padding=1, bias=False),\n",
        "#             nn.ReLU(),\n",
        "#             nn.BatchNorm2d(32),\n",
        "#             nn.Dropout(dropout_value)                        \n",
        "#         )\n",
        "#         # Maxpooling\n",
        "#         self.pool2 = nn.MaxPool2d(2, 2) \n",
        "#         # TRANSITION BLOCK 1\n",
        "#         self.transitionblock2 = nn.Sequential(\n",
        "#             nn.Conv2d(in_channels=32, out_channels=8, kernel_size=(1, 1), padding=0, bias=False),\n",
        "#         )\n",
        "#         self.convblock5 = nn.Sequential(\n",
        "#             nn.Conv2d(in_channels=8, out_channels=16, kernel_size=(3, 3), padding=1, bias=False),\n",
        "#             nn.ReLU(),\n",
        "#             nn.BatchNorm2d(16),\n",
        "#             nn.Dropout(dropout_value)                        \n",
        "#         )\n",
        "#         self.convblock6 = nn.Sequential(\n",
        "#             nn.Conv2d(in_channels=16, out_channels=16, kernel_size=(3, 3), padding=1, bias=False),\n",
        "#             nn.ReLU(),\n",
        "#             nn.BatchNorm2d(16),\n",
        "#             nn.Dropout(dropout_value)                        \n",
        "#         )\n",
        "#         self.convblock7 = nn.Sequential(\n",
        "#             nn.Conv2d(in_channels=16, out_channels=32, kernel_size=(3, 3), padding=1, bias=False),\n",
        "#             nn.ReLU(),\n",
        "#             nn.BatchNorm2d(32),\n",
        "#             nn.Dropout(dropout_value)                        \n",
        "#         )\n",
        "#         self.gap = nn.Sequential(\n",
        "#             nn.AvgPool2d(kernel_size=7)\n",
        "#         )\n",
        "\n",
        "#         self.translinear = nn.Sequential(\n",
        "#             nn.Conv2d(in_channels=32, out_channels=10, kernel_size=1, padding=0, bias=False),\n",
        "#             )\n",
        "\n",
        "#     def forward(self, x):\n",
        "#         x = self.convblock1(x)\n",
        "#         x = self.convblock2(x)\n",
        "#         x = self.pool1(x)\n",
        "#         x = self.transitionblock1(x)\n",
        "#         x = self.convblock3(x)\n",
        "#         x = self.convblock4(x)\n",
        "#         x = self.pool2(x)\n",
        "#         x = self.transitionblock2(x)\n",
        "#         x = self.convblock5(x)\n",
        "#         x = self.convblock6(x)\n",
        "#         x = self.convblock7(x)\n",
        "#         x = self.gap(x)\n",
        "#         x = self.translinear(x)\n",
        "#         x = x.view(-1, 10)\n",
        "#         return x"
      ],
      "execution_count": 8,
      "outputs": []
    },
    {
      "cell_type": "code",
      "metadata": {
        "id": "Qesqm9Qw1S3S"
      },
      "source": [
        "# 4 block model\n",
        "dropout_value = 0.069\n",
        "class Net(nn.Module):\n",
        "    def __init__(self):\n",
        "        super(Net, self).__init__()\n",
        "        self.convblock1 = nn.Sequential(\n",
        "            nn.Conv2d(in_channels=1, out_channels=8, kernel_size=(3, 3), padding=1, bias=False),\n",
        "            nn.ReLU(),\n",
        "            nn.BatchNorm2d(8),\n",
        "            nn.Dropout(dropout_value)                        \n",
        "        )\n",
        "        self.convblock2 = nn.Sequential(\n",
        "            nn.Conv2d(in_channels=8, out_channels=16, kernel_size=(3, 3), padding=1, bias=False),\n",
        "            nn.ReLU(),\n",
        "            nn.BatchNorm2d(16),\n",
        "            nn.Dropout(dropout_value),\n",
        "            nn.Conv2d(in_channels=16, out_channels=16, kernel_size=(3, 3), padding=1, bias=False),\n",
        "            nn.ReLU(),\n",
        "            nn.BatchNorm2d(16),\n",
        "            nn.Dropout(dropout_value)                         \n",
        "        )\n",
        "        # Maxpooling\n",
        "        self.pool1 = nn.MaxPool2d(2, 2) \n",
        "        # TRANSITION BLOCK 1\n",
        "        self.transitionblock1 = nn.Sequential(\n",
        "            nn.Conv2d(in_channels=16, out_channels=8, kernel_size=(1, 1), padding=0, bias=False),\n",
        "        )\n",
        "\n",
        "        self.convblock3 = nn.Sequential(\n",
        "            nn.Conv2d(in_channels=8, out_channels=16, kernel_size=(3, 3), padding=0, bias=False),\n",
        "            nn.ReLU(),\n",
        "            nn.BatchNorm2d(16),\n",
        "            nn.Dropout(dropout_value)                        \n",
        "        )\n",
        "        self.convblock4 = nn.Sequential(\n",
        "            nn.Conv2d(in_channels=16, out_channels=16, kernel_size=(3, 3), padding=0, bias=False),\n",
        "            nn.ReLU(),\n",
        "            nn.BatchNorm2d(16),\n",
        "            nn.Dropout(dropout_value)                        \n",
        "        )\n",
        "       \n",
        "        self.convblock5 = nn.Sequential(\n",
        "            nn.Conv2d(in_channels=16, out_channels=16, kernel_size=(3, 3), padding=0, bias=False),\n",
        "            nn.ReLU(),\n",
        "            nn.BatchNorm2d(16),\n",
        "            nn.Dropout(dropout_value)                        \n",
        "        )\n",
        "        self.convblock6 = nn.Sequential(\n",
        "            nn.Conv2d(in_channels=16, out_channels=16, kernel_size=(3, 3), padding=0, bias=False),\n",
        "            nn.ReLU(),\n",
        "            nn.BatchNorm2d(16),\n",
        "            nn.Dropout(dropout_value)                        \n",
        "        )\n",
        "\n",
        "        self.gap = nn.Sequential(\n",
        "            nn.AvgPool2d(kernel_size=6)\n",
        "        )\n",
        "\n",
        "        self.translinear = nn.Sequential(\n",
        "            nn.Conv2d(in_channels=16, out_channels=10, kernel_size=1, padding=0, bias=False),\n",
        "            )\n",
        "\n",
        "    def forward(self, x):\n",
        "        x = self.convblock1(x)\n",
        "        x = self.convblock2(x)\n",
        "        x = self.pool1(x)\n",
        "        x = self.transitionblock1(x)\n",
        "        x = self.convblock3(x)\n",
        "        x = self.convblock4(x)\n",
        "        x = self.convblock5(x)\n",
        "        x = self.convblock6(x)\n",
        "        x = self.gap(x)\n",
        "        x = self.translinear(x)\n",
        "        x = x.view(-1, 10)\n",
        "        return x"
      ],
      "execution_count": 9,
      "outputs": []
    },
    {
      "cell_type": "code",
      "metadata": {
        "colab": {
          "base_uri": "https://localhost:8080/"
        },
        "id": "fM2leCPhM8C6",
        "outputId": "d67c3d27-a06e-49d3-dcd4-667ffeadd0cf"
      },
      "source": [
        "use_cuda = torch.cuda.is_available()\n",
        "# hid_dim =\n",
        "device = torch.device(\"cuda\" if use_cuda else \"cpu\")\n",
        "print(\"Available device:\",device)\n",
        "model = Net().to(device)\n",
        "summary(model, input_size=(1, 28, 28))"
      ],
      "execution_count": 10,
      "outputs": [
        {
          "output_type": "stream",
          "text": [
            "Available device: cuda\n",
            "----------------------------------------------------------------\n",
            "        Layer (type)               Output Shape         Param #\n",
            "================================================================\n",
            "            Conv2d-1            [-1, 8, 28, 28]              72\n",
            "              ReLU-2            [-1, 8, 28, 28]               0\n",
            "       BatchNorm2d-3            [-1, 8, 28, 28]              16\n",
            "           Dropout-4            [-1, 8, 28, 28]               0\n",
            "            Conv2d-5           [-1, 16, 28, 28]           1,152\n",
            "              ReLU-6           [-1, 16, 28, 28]               0\n",
            "       BatchNorm2d-7           [-1, 16, 28, 28]              32\n",
            "           Dropout-8           [-1, 16, 28, 28]               0\n",
            "            Conv2d-9           [-1, 16, 28, 28]           2,304\n",
            "             ReLU-10           [-1, 16, 28, 28]               0\n",
            "      BatchNorm2d-11           [-1, 16, 28, 28]              32\n",
            "          Dropout-12           [-1, 16, 28, 28]               0\n",
            "        MaxPool2d-13           [-1, 16, 14, 14]               0\n",
            "           Conv2d-14            [-1, 8, 14, 14]             128\n",
            "           Conv2d-15           [-1, 16, 12, 12]           1,152\n",
            "             ReLU-16           [-1, 16, 12, 12]               0\n",
            "      BatchNorm2d-17           [-1, 16, 12, 12]              32\n",
            "          Dropout-18           [-1, 16, 12, 12]               0\n",
            "           Conv2d-19           [-1, 16, 10, 10]           2,304\n",
            "             ReLU-20           [-1, 16, 10, 10]               0\n",
            "      BatchNorm2d-21           [-1, 16, 10, 10]              32\n",
            "          Dropout-22           [-1, 16, 10, 10]               0\n",
            "           Conv2d-23             [-1, 16, 8, 8]           2,304\n",
            "             ReLU-24             [-1, 16, 8, 8]               0\n",
            "      BatchNorm2d-25             [-1, 16, 8, 8]              32\n",
            "          Dropout-26             [-1, 16, 8, 8]               0\n",
            "           Conv2d-27             [-1, 16, 6, 6]           2,304\n",
            "             ReLU-28             [-1, 16, 6, 6]               0\n",
            "      BatchNorm2d-29             [-1, 16, 6, 6]              32\n",
            "          Dropout-30             [-1, 16, 6, 6]               0\n",
            "        AvgPool2d-31             [-1, 16, 1, 1]               0\n",
            "           Conv2d-32             [-1, 10, 1, 1]             160\n",
            "================================================================\n",
            "Total params: 12,088\n",
            "Trainable params: 12,088\n",
            "Non-trainable params: 0\n",
            "----------------------------------------------------------------\n",
            "Input size (MB): 0.00\n",
            "Forward/backward pass size (MB): 1.16\n",
            "Params size (MB): 0.05\n",
            "Estimated Total Size (MB): 1.21\n",
            "----------------------------------------------------------------\n"
          ],
          "name": "stdout"
        }
      ]
    },
    {
      "cell_type": "code",
      "metadata": {
        "colab": {
          "base_uri": "https://localhost:8080/"
        },
        "id": "aoD_bHPLNqmx",
        "outputId": "20467403-7c6b-4e86-8e31-90e264fd7fff"
      },
      "source": [
        "for batch_id, batch in enumerate(train_loader):\n",
        "    print(type(batch))\n",
        "    break"
      ],
      "execution_count": 11,
      "outputs": [
        {
          "output_type": "stream",
          "text": [
            "<class 'list'>\n"
          ],
          "name": "stdout"
        }
      ]
    },
    {
      "cell_type": "markdown",
      "metadata": {
        "id": "R8REsIlMNgLd"
      },
      "source": [
        "## Train and Test"
      ]
    },
    {
      "cell_type": "code",
      "metadata": {
        "id": "G548fY7WNhm4"
      },
      "source": [
        "# Train\n",
        "# batch = {\"data\": data, \"target\": target, \"rand_num\": rand_num, \"sum_of_digits\": sum_of_digits}\n",
        "def train(model, device, train_loader, optimizer, criterion):\n",
        "    model.train()\n",
        "\n",
        "    # collect stats - for accuracy calculation\n",
        "    correct = 0\n",
        "    processed = 0\n",
        "    batch_loss = 0\n",
        "    epoch_loss = 0\n",
        "    epoch_accuracy = 0\n",
        "\n",
        "    for batch_id, batch in enumerate(train_loader):\n",
        "        data = batch[0].to(device)\n",
        "        target = batch[1].to(device)\n",
        "\n",
        "        optimizer.zero_grad()\n",
        "\n",
        "        # Gather prediction and calculate loss + backward pass + optimize weights\n",
        "        label_pred = model(data)\n",
        "        label_loss = criterion(label_pred, target)\n",
        "        # Calculate gradients\n",
        "        label_loss.backward()\n",
        "        # Optimizer\n",
        "        optimizer.step()\n",
        "\n",
        "        # Metrics calculation- For epoch Accuracy(total correct pred/total items) and loss \n",
        "        pred = label_pred.argmax(dim=1, keepdim=True)\n",
        "        correct += pred.eq(target.view_as(pred)).sum().item()\n",
        "        processed += len(data)\n",
        "        epoch_loss += label_loss.item()\n",
        "    \n",
        "    epoch_accuracy = (100*correct/processed)\n",
        "    epoch_loss /= len(train_loader)\n",
        "    print(f\"Train set: Epoch Accuracy: {round(epoch_accuracy, 2)}  Epoch Loss: {round(epoch_loss, 4)}\")\n",
        "\n",
        "    return epoch_accuracy, epoch_loss"
      ],
      "execution_count": 12,
      "outputs": []
    },
    {
      "cell_type": "code",
      "metadata": {
        "id": "PaO0GuaYNiNw"
      },
      "source": [
        "# Test\n",
        "def test(model, device, test_loader, criterion):\n",
        "    model.eval()\n",
        "\n",
        "    # collect stats - for accuracy calculation\n",
        "    correct = 0\n",
        "    processed = 0\n",
        "    batch_loss = 0\n",
        "    epoch_loss = 0\n",
        "    epoch_accuracy = 0\n",
        "\n",
        "    with torch.no_grad():        \n",
        "        for batch_id, batch in enumerate(test_loader):\n",
        "            data = batch[0].to(device)\n",
        "            target = batch[1].to(device)\n",
        "\n",
        "            label_pred = model(data)\n",
        "            label_loss = criterion(label_pred, target)\n",
        "\n",
        "            # Metrics calculation\n",
        "            pred = label_pred.argmax(dim=1, keepdim=True)\n",
        "            correct += pred.eq(target.view_as(pred)).sum().item()\n",
        "            processed += len(data)\n",
        "            epoch_loss += label_loss.item()\n",
        "        \n",
        "    epoch_accuracy = (100*correct)/processed\n",
        "    epoch_loss /= len(test_loader)\n",
        "    print(f\"Test set: Epoch Accuracy: {round(epoch_accuracy, 2)}  Epoch Loss: {round(epoch_loss, 4)}\")\n",
        "    return epoch_accuracy, epoch_loss"
      ],
      "execution_count": 13,
      "outputs": []
    },
    {
      "cell_type": "markdown",
      "metadata": {
        "id": "kEruHnQVOdq7"
      },
      "source": [
        "## Model training and Validation"
      ]
    },
    {
      "cell_type": "code",
      "metadata": {
        "colab": {
          "base_uri": "https://localhost:8080/"
        },
        "id": "U8ZusPwhOfhH",
        "outputId": "8f27a1dd-3e80-4528-c947-64329aca75c8"
      },
      "source": [
        "EPOCHS = 20\n",
        "train_accuracy = []\n",
        "test_accuracy = []\n",
        "train_loss = []\n",
        "test_loss = []\n",
        "\n",
        "# Optimization algorithm from torch.optim\n",
        "optimizer = optim.SGD(model.parameters(), lr=0.04, momentum=0.9)\n",
        "# Loss condition\n",
        "criterion = nn.CrossEntropyLoss()\n",
        "\n",
        "for epochs in range(EPOCHS):\n",
        "    print(f\"Epoch: {epochs}\")\n",
        "    train_acc_delta, train_loss_delta = train(model, device, train_loader, optimizer, criterion)\n",
        "    test_acc_delta, test_loss_delta = test(model, device, test_loader, criterion)\n",
        "\n",
        "    train_accuracy.append(round(train_acc_delta, 2))\n",
        "    train_loss.append(round(train_loss_delta, 4))\n",
        "    test_accuracy.append(round(test_acc_delta, 2))\n",
        "    test_loss.append(round(test_loss_delta, 4))"
      ],
      "execution_count": 14,
      "outputs": [
        {
          "output_type": "stream",
          "text": [
            "Epoch: 0\n",
            "Train set: Epoch Accuracy: 92.45  Epoch Loss: 0.2553\n",
            "Test set: Epoch Accuracy: 98.24  Epoch Loss: 0.0547\n",
            "Epoch: 1\n",
            "Train set: Epoch Accuracy: 98.09  Epoch Loss: 0.0618\n",
            "Test set: Epoch Accuracy: 99.01  Epoch Loss: 0.0319\n",
            "Epoch: 2\n",
            "Train set: Epoch Accuracy: 98.5  Epoch Loss: 0.0485\n",
            "Test set: Epoch Accuracy: 98.92  Epoch Loss: 0.0345\n",
            "Epoch: 3\n",
            "Train set: Epoch Accuracy: 98.72  Epoch Loss: 0.0423\n",
            "Test set: Epoch Accuracy: 99.15  Epoch Loss: 0.0263\n",
            "Epoch: 4\n",
            "Train set: Epoch Accuracy: 98.77  Epoch Loss: 0.0377\n",
            "Test set: Epoch Accuracy: 99.11  Epoch Loss: 0.0283\n",
            "Epoch: 5\n",
            "Train set: Epoch Accuracy: 98.91  Epoch Loss: 0.0361\n",
            "Test set: Epoch Accuracy: 99.22  Epoch Loss: 0.0235\n",
            "Epoch: 6\n",
            "Train set: Epoch Accuracy: 98.9  Epoch Loss: 0.034\n",
            "Test set: Epoch Accuracy: 99.39  Epoch Loss: 0.0189\n",
            "Epoch: 7\n",
            "Train set: Epoch Accuracy: 99.02  Epoch Loss: 0.0314\n",
            "Test set: Epoch Accuracy: 99.31  Epoch Loss: 0.025\n",
            "Epoch: 8\n",
            "Train set: Epoch Accuracy: 98.99  Epoch Loss: 0.0321\n",
            "Test set: Epoch Accuracy: 99.29  Epoch Loss: 0.0224\n",
            "Epoch: 9\n",
            "Train set: Epoch Accuracy: 99.07  Epoch Loss: 0.0293\n",
            "Test set: Epoch Accuracy: 99.37  Epoch Loss: 0.0182\n",
            "Epoch: 10\n",
            "Train set: Epoch Accuracy: 99.07  Epoch Loss: 0.0279\n",
            "Test set: Epoch Accuracy: 99.49  Epoch Loss: 0.018\n",
            "Epoch: 11\n",
            "Train set: Epoch Accuracy: 99.15  Epoch Loss: 0.0271\n",
            "Test set: Epoch Accuracy: 99.41  Epoch Loss: 0.0181\n",
            "Epoch: 12\n",
            "Train set: Epoch Accuracy: 99.14  Epoch Loss: 0.0277\n",
            "Test set: Epoch Accuracy: 99.41  Epoch Loss: 0.0176\n",
            "Epoch: 13\n",
            "Train set: Epoch Accuracy: 99.14  Epoch Loss: 0.0268\n",
            "Test set: Epoch Accuracy: 99.39  Epoch Loss: 0.0173\n",
            "Epoch: 14\n",
            "Train set: Epoch Accuracy: 99.16  Epoch Loss: 0.0263\n",
            "Test set: Epoch Accuracy: 99.42  Epoch Loss: 0.0181\n",
            "Epoch: 15\n",
            "Train set: Epoch Accuracy: 99.25  Epoch Loss: 0.0237\n",
            "Test set: Epoch Accuracy: 99.39  Epoch Loss: 0.0186\n",
            "Epoch: 16\n",
            "Train set: Epoch Accuracy: 99.2  Epoch Loss: 0.0244\n",
            "Test set: Epoch Accuracy: 99.22  Epoch Loss: 0.0212\n",
            "Epoch: 17\n",
            "Train set: Epoch Accuracy: 99.24  Epoch Loss: 0.0248\n",
            "Test set: Epoch Accuracy: 99.41  Epoch Loss: 0.0192\n",
            "Epoch: 18\n",
            "Train set: Epoch Accuracy: 99.24  Epoch Loss: 0.0227\n",
            "Test set: Epoch Accuracy: 99.42  Epoch Loss: 0.0207\n",
            "Epoch: 19\n",
            "Train set: Epoch Accuracy: 99.22  Epoch Loss: 0.0235\n",
            "Test set: Epoch Accuracy: 99.46  Epoch Loss: 0.0177\n"
          ],
          "name": "stdout"
        }
      ]
    },
    {
      "cell_type": "code",
      "metadata": {
        "colab": {
          "base_uri": "https://localhost:8080/",
          "height": 721
        },
        "id": "N-ccIjfPOk1w",
        "outputId": "fda50fab-77a0-4085-8d5c-691922956440"
      },
      "source": [
        "%matplotlib inline\n",
        "\n",
        "fig, axs = plt.subplots(2,2,figsize=(15,10))\n",
        "axs[0, 0].plot(train_loss)\n",
        "axs[0, 0].set_title(\"Training Loss\")\n",
        "axs[0, 0].set_xlabel(\"Epoch\")\n",
        "axs[0, 0].set_ylabel(\"Loss\")\n",
        "axs[0, 0].legend(loc=\"best\")\n",
        "\n",
        "axs[1, 0].plot(train_accuracy)\n",
        "axs[1, 0].set_title(\"Training Accuracy\")\n",
        "axs[1, 0].set_xlabel(\"Epoch\")\n",
        "axs[1, 0].set_ylabel(\"Accuracy in %\")\n",
        "axs[1, 0].legend(loc=\"best\")\n",
        "\n",
        "axs[0, 1].plot(test_loss)\n",
        "axs[0, 1].set_xlabel(\"Epoch\")\n",
        "axs[0, 1].set_ylabel(\"Loss\")\n",
        "axs[0, 1].set_title(\"Test Loss\")\n",
        "axs[0, 1].legend(loc=\"best\")\n",
        "\n",
        "axs[1, 1].plot(test_accuracy)\n",
        "axs[1, 1].set_xlabel(\"Epoch\")\n",
        "axs[1, 1].set_ylabel(\"Accuracy in %\")\n",
        "axs[1, 1].set_title(\"Test Accuracy\")\n",
        "axs[1, 1].legend(loc=\"best\")\n",
        "plt.figure()"
      ],
      "execution_count": 15,
      "outputs": [
        {
          "output_type": "stream",
          "text": [
            "No handles with labels found to put in legend.\n",
            "No handles with labels found to put in legend.\n",
            "No handles with labels found to put in legend.\n",
            "No handles with labels found to put in legend.\n"
          ],
          "name": "stderr"
        },
        {
          "output_type": "execute_result",
          "data": {
            "text/plain": [
              "<Figure size 432x288 with 0 Axes>"
            ]
          },
          "metadata": {
            "tags": []
          },
          "execution_count": 15
        },
        {
          "output_type": "display_data",
          "data": {
            "image/png": "[encoded data removed]",
            "text/plain": [
              "<Figure size 1080x720 with 4 Axes>"
            ]
          },
          "metadata": {
            "tags": [],
            "needs_background": "light"
          }
        },
        {
          "output_type": "display_data",
          "data": {
            "text/plain": [
              "<Figure size 432x288 with 0 Axes>"
            ]
          },
          "metadata": {
            "tags": []
          }
        }
      ]
    }
  ]
}